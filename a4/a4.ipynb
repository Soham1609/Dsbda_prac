{
 "cells": [
  {
   "cell_type": "code",
   "execution_count": 7,
   "metadata": {},
   "outputs": [],
   "source": [
    "import pandas as pd\n",
    "import numpy as np\n",
    "import seaborn as sns\n",
    "import matplotlib.pyplot as plt\n",
    "df=pd.read_csv('boston_housing.csv')"
   ]
  },
  {
   "cell_type": "code",
   "execution_count": null,
   "metadata": {},
   "outputs": [],
   "source": [
    "df_sorted = df.sort_values('LSTAT')\n",
    "q1 = df_sorted['LSTAT'].quantile(0.25)\n",
    "q3 = df_sorted['LSTAT'].quantile(0.75)\n",
    "iqr = q3-q1\n",
    "threshold = iqr*1.5\n",
    "outliers = []\n",
    "outliers = (df_sorted['LSTAT']<q1-threshold )|( df_sorted['LSTAT'] > q3 + threshold)\n",
    "\n",
    "print(outliers)\n"
   ]
  },
  {
   "cell_type": "code",
   "execution_count": 9,
   "metadata": {},
   "outputs": [],
   "source": [
    "# a) Min-max normalization\n",
    "mini = df['LSTAT'].min()\n",
    "maxi = df['LSTAT'].max()\n",
    "df['Lstat_norm'] = (df['LSTAT']-mini)/(maxi-mini)\n",
    "\n"
   ]
  },
  {
   "cell_type": "code",
   "execution_count": 11,
   "metadata": {},
   "outputs": [],
   "source": [
    "# b) Z-score normalization\n",
    "mean_v = df['LSTAT'].mean()\n",
    "std_v= df['LSTAT'].std()\n",
    "df['zscore_norm']= (df['LSTAT']-mean_v)/(std_v)\n"
   ]
  },
  {
   "cell_type": "code",
   "execution_count": 12,
   "metadata": {},
   "outputs": [
    {
     "data": {
      "text/plain": [
       "<Axes: xlabel='LSTAT'>"
      ]
     },
     "execution_count": 12,
     "metadata": {},
     "output_type": "execute_result"
    },
    {
     "data": {
      "image/png": "[encoded data removed]",
      "text/plain": [
       "<Figure size 640x480 with 1 Axes>"
      ]
     },
     "metadata": {},
     "output_type": "display_data"
    }
   ],
   "source": [
    "#  c)Box plot\n",
    "# sns.boxplot(x=df['zscore_norm'])\n",
    "sns.boxplot(x= df['LSTAT'])"
   ]
  }
 ],
 "metadata": {
  "kernelspec": {
   "display_name": "Python 3",
   "language": "python",
   "name": "python3"
  },
  "language_info": {
   "codemirror_mode": {
    "name": "ipython",
    "version": 3
   },
   "file_extension": ".py",
   "mimetype": "text/x-python",
   "name": "python",
   "nbconvert_exporter": "python",
   "pygments_lexer": "ipython3",
   "version": "3.11.0"
  },
  "orig_nbformat": 4
 },
 "nbformat": 4,
 "nbformat_minor": 2
}
