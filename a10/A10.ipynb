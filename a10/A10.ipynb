{
 "cells": [
  {
   "cell_type": "code",
   "execution_count": 81,
   "metadata": {},
   "outputs": [],
   "source": [
    "import re\n",
    "import nltk\n",
    "from nltk.tokenize import word_tokenize\n",
    "from nltk.corpus import stopwords\n",
    "from nltk.stem import PorterStemmer, WordNetLemmatizer\n",
    "from nltk import pos_tag\n",
    "from sklearn.feature_extraction.text import TfidfVectorizer\n"
   ]
  },
  {
   "cell_type": "code",
   "execution_count": 82,
   "metadata": {},
   "outputs": [],
   "source": [
    "with open(\"amg.txt\", \"r\")as file:\n",
    "    document = file.read()\n",
    "# document"
   ]
  },
  {
   "cell_type": "code",
   "execution_count": 83,
   "metadata": {},
   "outputs": [],
   "source": [
    "cleaned_document = re.sub(r'[^\\w\\s]', '', document)\n",
    "# cleaned_document\n",
    "# Explanation: The regular expression [^\\w\\s] matches any character that is not a word character (alphanumeric or underscore) or whitespace. The re.sub() function replaces these characters with an empty string, effectively removing them.\n"
   ]
  },
  {
   "cell_type": "code",
   "execution_count": 84,
   "metadata": {},
   "outputs": [],
   "source": [
    "# tokens\n",
    "tokens = word_tokenize(cleaned_document)\n",
    "# Explanation: Tokenization is the process of splitting the cleaned document into individual words or tokens. The word_tokenize() function from NLTK is used here."
   ]
  },
  {
   "cell_type": "code",
   "execution_count": 85,
   "metadata": {},
   "outputs": [],
   "source": [
    "pos_tags = pos_tag(tokens)\n",
    "# pos_tags\n",
    "# Explanation: POS tagging assigns a part-of-speech tag to each token in the document. The pos_tag() function from NLTK performs this task."
   ]
  },
  {
   "cell_type": "code",
   "execution_count": 86,
   "metadata": {},
   "outputs": [],
   "source": [
    "# Stopwords removal\n",
    "stopwords = set(stopwords.words(\"english\"))\n",
    "filtered_tokens = [token for token in tokens if token.lower() not in stopwords]\n",
    "# Explanation: Stopwords are common words (e.g., \"is\", \"a\", \"the\") that do not carry significant meaning. The stopwords.words(\"english\") function returns a set of English stopwords. The list comprehension filters out the tokens that are not stopwords.\n"
   ]
  },
  {
   "cell_type": "code",
   "execution_count": 87,
   "metadata": {},
   "outputs": [],
   "source": [
    "# Stemming\n",
    "stemmer = PorterStemmer()\n",
    "stemmed_tokens = [stemmer.stem(token) for token in filtered_tokens]\n",
    "# Explanation: Stemming reduces words to their base or root form. The PorterStemmer from NLTK is used to perform stemming on the filtered tokens.\n"
   ]
  },
  {
   "cell_type": "code",
   "execution_count": 88,
   "metadata": {},
   "outputs": [],
   "source": [
    "lemmatizer = WordNetLemmatizer()\n",
    "lemmatized_tokens = [lemmatizer.lemmatize(token) for token in filtered_tokens]\n",
    "# Explanation: Lemmatization aims to reduce words to their base form (lemma) while considering the context. The WordNetLemmatizer from NLTK is used for lemmatizing the filtered tokens.\n"
   ]
  },
  {
   "cell_type": "code",
   "execution_count": 89,
   "metadata": {},
   "outputs": [
    {
     "name": "stdout",
     "output_type": "stream",
     "text": [
      "\n",
      "Term Frequency-Inverse Document Frequency (TF-IDF) Representation:\n",
      "13: 0.06286946134619315\n",
      "15: 0.06286946134619315\n",
      "40liter: 0.06286946134619315\n",
      "44: 0.06286946134619315\n",
      "4matic: 0.06286946134619315\n",
      "577: 0.06286946134619315\n",
      "60: 0.06286946134619315\n",
      "627: 0.06286946134619315\n",
      "accelerate: 0.06286946134619315\n",
      "additionally: 0.06286946134619315\n",
      "advanced: 0.18860838403857944\n",
      "allows: 0.06286946134619315\n",
      "allwheeldrive: 0.1257389226923863\n",
      "also: 0.06286946134619315\n",
      "amg: 0.1257389226923863\n",
      "astonishing: 0.06286946134619315\n",
      "automatic: 0.06286946134619315\n",
      "barrier: 0.06286946134619315\n",
      "best: 0.06286946134619315\n",
      "buyer: 0.06286946134619315\n",
      "cabin: 0.18860838403857944\n",
      "capability: 0.1257389226923863\n",
      "capable: 0.1257389226923863\n",
      "choice: 0.06286946134619315\n",
      "city: 0.06286946134619315\n",
      "class: 0.06286946134619315\n",
      "combining: 0.06286946134619315\n",
      "comfortable: 0.06286946134619315\n",
      "deep: 0.06286946134619315\n",
      "delivers: 0.06286946134619315\n",
      "differential: 0.06286946134619315\n",
      "downside: 0.06286946134619315\n",
      "ease: 0.06286946134619315\n",
      "easy: 0.06286946134619315\n",
      "economy: 0.06286946134619315\n",
      "engine: 0.1257389226923863\n",
      "epaestimated: 0.06286946134619315\n",
      "excellent: 0.06286946134619315\n",
      "exceptional: 0.06286946134619315\n",
      "feature: 0.06286946134619315\n",
      "four: 0.06286946134619315\n",
      "fuel: 0.06286946134619315\n",
      "fulltime: 0.06286946134619315\n",
      "g63: 0.440086229423352\n",
      "high: 0.06286946134619315\n",
      "highend: 0.06286946134619315\n",
      "highly: 0.06286946134619315\n",
      "highperformance: 0.06286946134619315\n",
      "highway: 0.06286946134619315\n",
      "hill: 0.06286946134619315\n",
      "hood: 0.06286946134619315\n",
      "horsepower: 0.06286946134619315\n",
      "impressive: 0.18860838403857944\n",
      "incredible: 0.06286946134619315\n",
      "infotainment: 0.06286946134619315\n",
      "inside: 0.06286946134619315\n",
      "intuitive: 0.06286946134619315\n",
      "keep: 0.06286946134619315\n",
      "lavish: 0.06286946134619315\n",
      "lbft: 0.06286946134619315\n",
      "locking: 0.06286946134619315\n",
      "luxurious: 0.06286946134619315\n",
      "luxury: 0.1257389226923863\n",
      "main: 0.06286946134619315\n",
      "making: 0.06286946134619315\n",
      "many: 0.06286946134619315\n",
      "mated: 0.06286946134619315\n",
      "material: 0.06286946134619315\n",
      "mercedesbenz: 0.06286946134619315\n",
      "mpg: 0.1257389226923863\n",
      "mph: 0.06286946134619315\n",
      "ninespeed: 0.06286946134619315\n",
      "offer: 0.1257389226923863\n",
      "offroad: 0.1257389226923863\n",
      "offroader: 0.06286946134619315\n",
      "one: 0.06286946134619315\n",
      "opulent: 0.06286946134619315\n",
      "overall: 0.06286946134619315\n",
      "passenger: 0.06286946134619315\n",
      "performance: 0.06286946134619315\n",
      "plenty: 0.1257389226923863\n",
      "poor: 0.06286946134619315\n",
      "power: 0.18860838403857944\n",
      "powered: 0.06286946134619315\n",
      "practicality: 0.06286946134619315\n",
      "price: 0.06286946134619315\n",
      "produce: 0.06286946134619315\n",
      "protected: 0.06286946134619315\n",
      "robust: 0.06286946134619315\n",
      "rough: 0.06286946134619315\n",
      "safety: 0.06286946134619315\n",
      "seating: 0.06286946134619315\n",
      "second: 0.06286946134619315\n",
      "setup: 0.06286946134619315\n",
      "size: 0.06286946134619315\n",
      "spacious: 0.06286946134619315\n",
      "sporty: 0.06286946134619315\n",
      "steep: 0.06286946134619315\n",
      "suspension: 0.06286946134619315\n",
      "suv: 0.18860838403857944\n",
      "suvs: 0.06286946134619315\n",
      "system: 0.2514778453847726\n",
      "tackle: 0.06286946134619315\n",
      "tag: 0.06286946134619315\n",
      "technology: 0.06286946134619315\n",
      "terrain: 0.06286946134619315\n",
      "thanks: 0.06286946134619315\n",
      "three: 0.06286946134619315\n",
      "top: 0.06286946134619315\n",
      "torque: 0.06286946134619315\n",
      "transmission: 0.06286946134619315\n",
      "twinturbocharged: 0.06286946134619315\n",
      "use: 0.06286946134619315\n",
      "v8: 0.06286946134619315\n",
      "versatility: 0.06286946134619315\n",
      "via: 0.06286946134619315\n",
      "want: 0.06286946134619315\n",
      "water: 0.06286946134619315\n",
      "wheel: 0.06286946134619315\n",
      "world: 0.06286946134619315\n"
     ]
    }
   ],
   "source": [
    "preprocessed_document = ' '.join(lemmatized_tokens)\n",
    "documents = [preprocessed_document]\n",
    "tfidf_vectorizer = TfidfVectorizer()\n",
    "tfidf_matrix = tfidf_vectorizer.fit_transform(documents)\n",
    "# Get the feature names (terms)\n",
    "feature_names = tfidf_vectorizer.get_feature_names_out()\n",
    "tfidf_values = tfidf_matrix.toarray()[0]\n",
    "\n",
    "print(\"\\nTerm Frequency-Inverse Document Frequency (TF-IDF) Representation:\")\n",
    "for term, value in zip(feature_names, tfidf_values):\n",
    "    print(f\"{term}: {value}\")"
   ]
  }
 ],
 "metadata": {
  "kernelspec": {
   "display_name": "Python 3",
   "language": "python",
   "name": "python3"
  },
  "language_info": {
   "codemirror_mode": {
    "name": "ipython",
    "version": 3
   },
   "file_extension": ".py",
   "mimetype": "text/x-python",
   "name": "python",
   "nbconvert_exporter": "python",
   "pygments_lexer": "ipython3",
   "version": "3.11.0"
  },
  "orig_nbformat": 4
 },
 "nbformat": 4,
 "nbformat_minor": 2
}
