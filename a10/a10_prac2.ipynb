{
 "cells": [
  {
   "cell_type": "code",
   "execution_count": 3,
   "metadata": {},
   "outputs": [],
   "source": [
    "# import pandas as pd\n",
    "import re\n",
    "import nltk\n",
    "from nltk.tokenize import word_tokenize\n",
    "from nltk.corpus import stopwords\n",
    "from nltk.stem import WordNetLemmatizer , PorterStemmer\n",
    "from nltk import pos_tag"
   ]
  },
  {
   "cell_type": "code",
   "execution_count": 4,
   "metadata": {},
   "outputs": [
    {
     "data": {
      "text/plain": [
       "'The AMG G63 is a high-performance luxury SUV from Mercedes-Benz that offers impressive power, exceptional off-road capabilities, and an opulent cabin. Under the hood, the G63 is powered by a twin-turbocharged 4.0-liter V8 engine that produces an astonishing 577 horsepower and 627 lb-ft of torque. The engine is mated to a nine-speed automatic transmission that delivers power to all four wheels via a full-time all-wheel-drive system. This setup allows the G63 to accelerate from 0 to 60 mph in just 4.4 seconds, which is impressive for an SUV of this size. The G63 is also a highly capable off-roader, thanks to its advanced 4MATIC all-wheel-drive system, three locking differentials, and robust suspension system. It can tackle rough terrain, steep hills, and deep water with ease, making it one of the most capable SUVs in its class. Inside the cabin, the G63 is lavish and spacious, with plenty of high-end materials, advanced technology, and comfortable seating. The infotainment system is intuitive and easy to use, and there are plenty of advanced safety features to keep passengers protected. The main downside of the G63 is its high price tag, which can be a barrier for many buyers. Additionally, its fuel economy is poor, with an EPA-estimated 13 mpg city and 15 mpg highway. Overall, the AMG G63 is an excellent luxury SUV that offers incredible power, impressive off-road capabilities, and a luxurious cabin. It is a top choice for those who want the best of both worlds, combining sporty performance with practicality and versatility.\\n'"
      ]
     },
     "execution_count": 4,
     "metadata": {},
     "output_type": "execute_result"
    }
   ],
   "source": [
    "with open('amg.txt', 'r') as file:\n",
    "    document = file.read()\n",
    "document"
   ]
  },
  {
   "cell_type": "code",
   "execution_count": 5,
   "metadata": {},
   "outputs": [
    {
     "data": {
      "text/plain": [
       "'The AMG G63 is a highperformance luxury SUV from MercedesBenz that offers impressive power exceptional offroad capabilities and an opulent cabin Under the hood the G63 is powered by a twinturbocharged 40liter V8 engine that produces an astonishing 577 horsepower and 627 lbft of torque The engine is mated to a ninespeed automatic transmission that delivers power to all four wheels via a fulltime allwheeldrive system This setup allows the G63 to accelerate from 0 to 60 mph in just 44 seconds which is impressive for an SUV of this size The G63 is also a highly capable offroader thanks to its advanced 4MATIC allwheeldrive system three locking differentials and robust suspension system It can tackle rough terrain steep hills and deep water with ease making it one of the most capable SUVs in its class Inside the cabin the G63 is lavish and spacious with plenty of highend materials advanced technology and comfortable seating The infotainment system is intuitive and easy to use and there are plenty of advanced safety features to keep passengers protected The main downside of the G63 is its high price tag which can be a barrier for many buyers Additionally its fuel economy is poor with an EPAestimated 13 mpg city and 15 mpg highway Overall the AMG G63 is an excellent luxury SUV that offers incredible power impressive offroad capabilities and a luxurious cabin It is a top choice for those who want the best of both worlds combining sporty performance with practicality and versatility\\n'"
      ]
     },
     "execution_count": 5,
     "metadata": {},
     "output_type": "execute_result"
    }
   ],
   "source": [
    "clean_doc = re.sub(r'[^\\w\\s]','',document)\n",
    "clean_doc"
   ]
  },
  {
   "cell_type": "code",
   "execution_count": 14,
   "metadata": {},
   "outputs": [],
   "source": [
    "# Tokenization, POS Tagging, stop words removal, Stemming and Lemmatization.\n",
    "tokens = word_tokenize(clean_doc)\n",
    "pos_tag1 = pos_tag(tokens)\n",
    "stopwords = set(stopwords.words('english'))\n",
    "filterted_token = [token for token in tokens if token.lower() in stopwords]"
   ]
  },
  {
   "cell_type": "code",
   "execution_count": 19,
   "metadata": {},
   "outputs": [],
   "source": [
    "stemmer = PorterStemmer()\n",
    "stemmed_tkn =[ stemmer.stem(token) for token in filterted_token]"
   ]
  },
  {
   "cell_type": "code",
   "execution_count": 20,
   "metadata": {},
   "outputs": [],
   "source": [
    "lemmer = WordNetLemmatizer()\n",
    "lemmmed_tkn = [lemmer.lemmatize(token) for token in filterted_token]"
   ]
  }
 ],
 "metadata": {
  "kernelspec": {
   "display_name": "Python 3",
   "language": "python",
   "name": "python3"
  },
  "language_info": {
   "codemirror_mode": {
    "name": "ipython",
    "version": 3
   },
   "file_extension": ".py",
   "mimetype": "text/x-python",
   "name": "python",
   "nbconvert_exporter": "python",
   "pygments_lexer": "ipython3",
   "version": "3.11.0"
  },
  "orig_nbformat": 4
 },
 "nbformat": 4,
 "nbformat_minor": 2
}
