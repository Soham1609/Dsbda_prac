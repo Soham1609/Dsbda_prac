{
 "cells": [
  {
   "cell_type": "code",
   "execution_count": 12,
   "metadata": {},
   "outputs": [],
   "source": [
    "import re\n",
    "import nltk\n",
    "from nltk.tokenize import word_tokenize\n",
    "from nltk.corpus import stopwords\n",
    "from nltk.stem import PorterStemmer ,WordNetLemmatizer\n",
    "from nltk import pos_tag"
   ]
  },
  {
   "cell_type": "code",
   "execution_count": 13,
   "metadata": {},
   "outputs": [],
   "source": [
    "with open('amg.txt','r') as     file:\n",
    "    document = file.read()"
   ]
  },
  {
   "cell_type": "code",
   "execution_count": 14,
   "metadata": {},
   "outputs": [
    {
     "data": {
      "text/plain": [
       "'The AMG G63 is a highperformance luxury SUV from MercedesBenz that offers impressive power exceptional offroad capabilities and an opulent cabin Under the hood the G63 is powered by a twinturbocharged 40liter V8 engine that produces an astonishing 577 horsepower and 627 lbft of torque The engine is mated to a ninespeed automatic transmission that delivers power to all four wheels via a fulltime allwheeldrive system This setup allows the G63 to accelerate from 0 to 60 mph in just 44 seconds which is impressive for an SUV of this size The G63 is also a highly capable offroader thanks to its advanced 4MATIC allwheeldrive system three locking differentials and robust suspension system It can tackle rough terrain steep hills and deep water with ease making it one of the most capable SUVs in its class Inside the cabin the G63 is lavish and spacious with plenty of highend materials advanced technology and comfortable seating The infotainment system is intuitive and easy to use and there are plenty of advanced safety features to keep passengers protected The main downside of the G63 is its high price tag which can be a barrier for many buyers Additionally its fuel economy is poor with an EPAestimated 13 mpg city and 15 mpg highway Overall the AMG G63 is an excellent luxury SUV that offers incredible power impressive offroad capabilities and a luxurious cabin It is a top choice for those who want the best of both worlds combining sporty performance with practicality and versatility\\n'"
      ]
     },
     "execution_count": 14,
     "metadata": {},
     "output_type": "execute_result"
    }
   ],
   "source": [
    "clean_doc = re.sub(r'[^\\w\\s]','',document)\n",
    "clean_doc"
   ]
  },
  {
   "cell_type": "code",
   "execution_count": 15,
   "metadata": {},
   "outputs": [],
   "source": [
    "tokens = word_tokenize(clean_doc)\n"
   ]
  },
  {
   "cell_type": "code",
   "execution_count": 16,
   "metadata": {},
   "outputs": [],
   "source": [
    "pos_tag1 = pos_tag(tokens)"
   ]
  },
  {
   "cell_type": "code",
   "execution_count": 17,
   "metadata": {},
   "outputs": [],
   "source": [
    "stopwords = set(stopwords.words('english'))\n",
    "cleaned_token = [token for token in tokens if token.lower() not in stopwords ]"
   ]
  },
  {
   "cell_type": "code",
   "execution_count": 18,
   "metadata": {},
   "outputs": [],
   "source": [
    "stemmer = PorterStemmer()\n",
    "stemed_token = [stemmer.stem(token) for token in cleaned_token]"
   ]
  },
  {
   "cell_type": "code",
   "execution_count": 19,
   "metadata": {},
   "outputs": [],
   "source": [
    "lemmer = WordNetLemmatizer()\n",
    "lemed_token = [lemmer.lemmatize(token) for token in cleaned_token]"
   ]
  }
 ],
 "metadata": {
  "kernelspec": {
   "display_name": "Python 3",
   "language": "python",
   "name": "python3"
  },
  "language_info": {
   "codemirror_mode": {
    "name": "ipython",
    "version": 3
   },
   "file_extension": ".py",
   "mimetype": "text/x-python",
   "name": "python",
   "nbconvert_exporter": "python",
   "pygments_lexer": "ipython3",
   "version": "3.11.0"
  },
  "orig_nbformat": 4
 },
 "nbformat": 4,
 "nbformat_minor": 2
}
